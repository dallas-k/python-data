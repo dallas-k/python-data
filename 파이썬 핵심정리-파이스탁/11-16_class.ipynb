{
 "cells": [
  {
   "cell_type": "code",
   "execution_count": 1,
   "id": "2a50b9fa",
   "metadata": {},
   "outputs": [
    {
     "name": "stdout",
     "output_type": "stream",
     "text": [
      "seoul\n",
      "tokyo\n"
     ]
    }
   ],
   "source": [
    "class myWorld :\n",
    "    pass\n",
    "\n",
    "korea = myWorld()\n",
    "japan = myWorld()\n",
    "\n",
    "korea.capital = 'seoul'\n",
    "japan.capital = 'tokyo'\n",
    "\n",
    "print(korea.capital)\n",
    "print(japan.capital)"
   ]
  },
  {
   "cell_type": "code",
   "execution_count": 6,
   "id": "b0bae948",
   "metadata": {},
   "outputs": [
    {
     "name": "stdout",
     "output_type": "stream",
     "text": [
      "seoul\n",
      "<class '__main__.myWorld'>\n"
     ]
    }
   ],
   "source": [
    "class myWorld:\n",
    "    def insert_cap(area, capital) :\n",
    "        area.capital = capital\n",
    "        \n",
    "korea = myWorld()\n",
    "myWorld.insert_cap(korea, 'seoul')\n",
    "print(korea.capital)\n",
    "print(myWorld)"
   ]
  },
  {
   "cell_type": "code",
   "execution_count": 10,
   "id": "b826db40",
   "metadata": {},
   "outputs": [
    {
     "name": "stdout",
     "output_type": "stream",
     "text": [
      "Bank\n"
     ]
    }
   ],
   "source": [
    "class account :\n",
    "    def __init__(self) :\n",
    "        print('Bank')\n",
    "    def create(self, name, money) :\n",
    "        self.name = name\n",
    "        self.money = money\n",
    "        \n",
    "kb = account()"
   ]
  },
  {
   "cell_type": "code",
   "execution_count": 15,
   "id": "a7bde2d5",
   "metadata": {},
   "outputs": [
    {
     "name": "stdout",
     "output_type": "stream",
     "text": [
      "<__main__.myWorld object at 0x000001FB05DB38B0>  capital is :  seoul\n"
     ]
    }
   ],
   "source": [
    "class myWorld :\n",
    "    def __init__(self, capital):\n",
    "        self.capital = capital\n",
    "        print(self,' capital is : ',self.capital)\n",
    "\n",
    "korea = myWorld('seoul')"
   ]
  },
  {
   "cell_type": "code",
   "execution_count": null,
   "id": "3e0cbae4",
   "metadata": {},
   "outputs": [],
   "source": []
  }
 ],
 "metadata": {
  "kernelspec": {
   "display_name": "Python 3 (ipykernel)",
   "language": "python",
   "name": "python3"
  },
  "language_info": {
   "codemirror_mode": {
    "name": "ipython",
    "version": 3
   },
   "file_extension": ".py",
   "mimetype": "text/x-python",
   "name": "python",
   "nbconvert_exporter": "python",
   "pygments_lexer": "ipython3",
   "version": "3.9.13"
  }
 },
 "nbformat": 4,
 "nbformat_minor": 5
}
