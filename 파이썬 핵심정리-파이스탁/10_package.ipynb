{
 "cells": [
  {
   "cell_type": "code",
   "execution_count": 1,
   "id": "b136255a",
   "metadata": {},
   "outputs": [],
   "source": [
    "from multimedia.video import *\n",
    "from multimedia.audio import *"
   ]
  },
  {
   "cell_type": "code",
   "execution_count": 2,
   "id": "ad6da775",
   "metadata": {},
   "outputs": [
    {
     "name": "stdout",
     "output_type": "stream",
     "text": [
      "play video\n"
     ]
    }
   ],
   "source": [
    "play_video()"
   ]
  },
  {
   "cell_type": "code",
   "execution_count": 3,
   "id": "51306912",
   "metadata": {},
   "outputs": [
    {
     "name": "stdout",
     "output_type": "stream",
     "text": [
      "play audio\n"
     ]
    }
   ],
   "source": [
    "play_audio()"
   ]
  },
  {
   "cell_type": "code",
   "execution_count": null,
   "id": "b15ac89e",
   "metadata": {},
   "outputs": [],
   "source": []
  }
 ],
 "metadata": {
  "kernelspec": {
   "display_name": "Python 3 (ipykernel)",
   "language": "python",
   "name": "python3"
  },
  "language_info": {
   "codemirror_mode": {
    "name": "ipython",
    "version": 3
   },
   "file_extension": ".py",
   "mimetype": "text/x-python",
   "name": "python",
   "nbconvert_exporter": "python",
   "pygments_lexer": "ipython3",
   "version": "3.9.13"
  }
 },
 "nbformat": 4,
 "nbformat_minor": 5
}
