{
 "cells": [
  {
   "cell_type": "code",
   "execution_count": 1,
   "id": "0ae6cf5c",
   "metadata": {},
   "outputs": [],
   "source": [
    "import pandas as pd"
   ]
  },
  {
   "cell_type": "code",
   "execution_count": 2,
   "id": "e78b57dc",
   "metadata": {},
   "outputs": [
    {
     "data": {
      "text/plain": [
       "1    300\n",
       "2    400\n",
       "3    500\n",
       "dtype: int64"
      ]
     },
     "execution_count": 2,
     "metadata": {},
     "output_type": "execute_result"
    }
   ],
   "source": [
    "low = pd.Series([10, 200, 200, 400, 600])\n",
    "high = pd.Series([100, 300, 400, 500, 600])\n",
    "\n",
    "diff = (high - low) >= 100\n",
    "\n",
    "high[diff]"
   ]
  },
  {
   "cell_type": "code",
   "execution_count": 5,
   "id": "b1ebbfa2",
   "metadata": {},
   "outputs": [
    {
     "data": {
      "text/plain": [
       "05/15    82400\n",
       "05/17    81000\n",
       "dtype: int64"
      ]
     },
     "execution_count": 5,
     "metadata": {},
     "output_type": "execute_result"
    }
   ],
   "source": [
    "close = pd.Series(data = [93000, 82400, 99100, 81000, 72300], index = ['05/14', '05/15', '05/16', '05/17', '05/18'])\n",
    "\n",
    "bet = (close >= 80000) & (close < 90000)\n",
    "\n",
    "close[bet]"
   ]
  },
  {
   "cell_type": "code",
   "execution_count": null,
   "id": "192d2d7d",
   "metadata": {},
   "outputs": [],
   "source": []
  }
 ],
 "metadata": {
  "kernelspec": {
   "display_name": "Python 3",
   "language": "python",
   "name": "python3"
  },
  "language_info": {
   "codemirror_mode": {
    "name": "ipython",
    "version": 3
   },
   "file_extension": ".py",
   "mimetype": "text/x-python",
   "name": "python",
   "nbconvert_exporter": "python",
   "pygments_lexer": "ipython3",
   "version": "3.8.8"
  }
 },
 "nbformat": 4,
 "nbformat_minor": 5
}
