{
 "cells": [
  {
   "cell_type": "code",
   "execution_count": 1,
   "id": "9c94281c",
   "metadata": {},
   "outputs": [
    {
     "ename": "FileNotFoundError",
     "evalue": "[Errno 2] No such file or directory: 'seoul.scv'",
     "output_type": "error",
     "traceback": [
      "\u001b[1;31m---------------------------------------------------------------------------\u001b[0m",
      "\u001b[1;31mFileNotFoundError\u001b[0m                         Traceback (most recent call last)",
      "\u001b[1;32m<ipython-input-1-b0995d201b64>\u001b[0m in \u001b[0;36m<module>\u001b[1;34m\u001b[0m\n\u001b[0;32m      1\u001b[0m \u001b[1;32mimport\u001b[0m \u001b[0mcsv\u001b[0m\u001b[1;33m\u001b[0m\u001b[1;33m\u001b[0m\u001b[0m\n\u001b[1;32m----> 2\u001b[1;33m \u001b[0mf\u001b[0m \u001b[1;33m=\u001b[0m \u001b[0mopen\u001b[0m\u001b[1;33m(\u001b[0m\u001b[1;34m'seoul.scv'\u001b[0m\u001b[1;33m)\u001b[0m\u001b[1;33m\u001b[0m\u001b[1;33m\u001b[0m\u001b[0m\n\u001b[0m\u001b[0;32m      3\u001b[0m \u001b[0mdata\u001b[0m \u001b[1;33m=\u001b[0m \u001b[0mcsv\u001b[0m\u001b[1;33m.\u001b[0m\u001b[0mreader\u001b[0m\u001b[1;33m(\u001b[0m\u001b[0mf\u001b[0m\u001b[1;33m)\u001b[0m\u001b[1;33m\u001b[0m\u001b[1;33m\u001b[0m\u001b[0m\n\u001b[0;32m      4\u001b[0m \u001b[1;32mfor\u001b[0m \u001b[0mrow\u001b[0m \u001b[1;32min\u001b[0m \u001b[0mdata\u001b[0m \u001b[1;33m:\u001b[0m\u001b[1;33m\u001b[0m\u001b[1;33m\u001b[0m\u001b[0m\n\u001b[0;32m      5\u001b[0m     \u001b[0mprint\u001b[0m\u001b[1;33m(\u001b[0m\u001b[0mrow\u001b[0m\u001b[1;33m)\u001b[0m\u001b[1;33m\u001b[0m\u001b[1;33m\u001b[0m\u001b[0m\n",
      "\u001b[1;31mFileNotFoundError\u001b[0m: [Errno 2] No such file or directory: 'seoul.scv'"
     ]
    }
   ],
   "source": [
    "import csv\n",
    "f = open('seoul.scv')\n",
    "data = csv.reader(f)\n",
    "for row in data :\n",
    "    print(row)"
   ]
  },
  {
   "cell_type": "code",
   "execution_count": 2,
   "id": "586b3261",
   "metadata": {},
   "outputs": [
    {
     "name": "stdout",
     "output_type": "stream",
     "text": [
      "['\\t지점번호', '지점명', '일시', '강수량(mm)', '일최다강수량(mm)', '일최다강수량일자', '1시간최다강수량(mm)', '1시간최다강수량일자']\n",
      "['\\t108', '서울', 'Jul-13', '676.2', '165', '2013-07-13', '42', '2013-07-22']\n",
      "['\\t108', '서울', 'Aug-20', '675.7', '102.6', '2020-08-03', '32.5', '2020-08-30']\n",
      "['\\t108', '서울', 'Jul-17', '621', '144.5', '2017-07-10', '53', '2017-07-03']\n",
      "['\\t108', '서울', 'Aug-22', '564.8', '129.6', '2022-08-08', '47.1', '2022-08-19']\n",
      "['\\t108', '서울', 'Aug-12', '464.9', '137', '2012-08-21', '49', '2012-08-15']\n",
      "['\\t108', '서울', 'Jul-12', '448.9', '102.5', '2012-07-06', '68', '2012-07-13']\n",
      "['\\t108', '서울', 'Jun-22', '393.8', '176.2', '2022-06-30', '34.4', '2022-06-23']\n",
      "['\\t108', '서울', 'Jul-16', '358.2', '108.5', '2016-07-01', '51.5', '2016-07-29']\n",
      "['\\t108', '서울', 'Aug-17', '297', '124.5', '2017-08-20', '35.5', '2017-08-15']\n",
      "['\\t108', '서울', 'Jul-20', '270.4', '103.1', '2020-07-23', '27.1', '2020-07-29']\n",
      "['\\t108', '서울', 'Jul-22', '252.3', '114.5', '2022-07-13', '33.8', '2022-07-16']\n",
      "['\\t108', '서울', 'Jul-15', '226', '80', '2015-07-25', '31', '2015-07-25']\n",
      "['\\t108', '서울', 'May-18', '222', '83', '2018-05-17', '35', '2018-05-16']\n",
      "['\\t108', '서울', 'Sep-12', '212', '85.5', '2012-09-17', '15.5', '2012-09-17']\n",
      "['\\t108', '서울', 'Aug-21', '211.2', '77.4', '2021-08-31', '27.9', '2021-08-21']\n",
      "['\\t108', '서울', 'Jul-14', '207.9', '59.5', '2014-07-25', '34.5', '2014-07-25']\n",
      "['\\t108', '서울', 'Aug-18', '202.6', '96.5', '2018-08-28', '43.5', '2018-08-28']\n",
      "['\\t108', '서울', 'Sep-22', '201.5', '120', '2022-09-05', '12.8', '2022-09-05']\n",
      "['\\t108', '서울', 'Jul-19', '194.4', '62.3', '2019-07-31', '26.3', '2019-07-31']\n",
      "['\\t108', '서울', 'Aug-19', '190.5', '56.2', '2019-08-12', '29.4', '2019-08-29']\n",
      "['\\t108', '서울', 'Jul-18', '185.6', '83.5', '2018-07-01', '25', '2018-07-02']\n",
      "['\\t108', '서울', 'May-21', '183.1', '66.9', '2021-05-16', '11.3', '2021-05-30']\n",
      "['\\t108', '서울', 'Sep-20', '181.5', '61', '2020-09-07', '34', '2020-09-30']\n",
      "['\\t108', '서울', 'Aug-14', '172.8', '46.5', '2014-08-21', '25.5', '2014-08-10']\n",
      "['\\t108', '서울', 'Jun-18', '171.5', '71.5', '2018-06-26', '22.5', '2018-06-28']\n",
      "['\\t108', '서울', 'Jul-21', '168.3', '67.4', '2021-07-19', '65.7', '2021-07-19']\n",
      "['\\t108', '서울', 'May-16', '160.5', '45', '2016-05-15', '12', '2016-05-15']\n",
      "['\\t108', '서울', 'Apr-12', '157', '47.5', '2012-04-21', '9', '2012-04-21']\n",
      "['\\t108', '서울', 'Aug-13', '148.6', '45', '2013-08-06', '43.5', '2013-08-06']\n",
      "['\\t108', '서울', 'Sep-19', '139.8', '63.2', '2019-09-10', '18.4', '2019-09-05']\n",
      "['\\t108', '서울', 'Jun-20', '139.6', '64.7', '2020-06-30', '15.9', '2020-06-30']\n",
      "['\\t108', '서울', 'Sep-13', '138.5', '50', '2013-09-13', '13', '2013-09-13']\n",
      "['\\t108', '서울', 'May-13', '132', '56.5', '2013-05-27', '11', '2013-05-27']\n",
      "['\\t108', '서울', 'Sep-21', '131', '68.1', '2021-09-21', '27.1', '2021-09-21']\n",
      "['\\t108', '서울', 'Apr-18', '130.3', '59', '2018-04-23', '8.5', '2018-04-23']\n",
      "['\\t108', '서울', 'Apr-21', '124.1', '56.2', '2021-04-03', '11.5', '2021-04-03']\n",
      "['\\t108', '서울', 'Oct-22', '124.1', '76', '2022-10-03', '14.7', '2022-10-03']\n",
      "['\\t108', '서울', 'Oct-18', '120.5', '55.5', '2018-10-06', '10.5', '2018-10-06']\n",
      "['\\t108', '서울', 'Nov-20', '120.1', '86.9', '2020-11-19', '', '']\n",
      "['\\t108', '서울', 'May-20', '112.4', '29.8', '2020-05-18', '19.8', '2020-05-18']\n",
      "['\\t108', '서울', 'Mar-21', '110.9', '67.5', '2021-03-01', '', '']\n",
      "['\\t108', '서울', 'Nov-15', '104.6', '24.5', '2015-11-07', '', '']\n",
      "['\\t108', '서울', 'Jun-21', '104.6', '38.2', '2021-06-27', '37.7', '2021-06-27']\n",
      "['\\t108', '서울', 'Mar-22', '102.6', '42.1', '2022-03-13', '', '']\n",
      "['\\t108', '서울', 'Oct-12', '99.3', '44', '2012-10-27', '17', '2012-10-22']\n",
      "['\\t108', '서울', 'Jun-15', '99', '44.5', '2015-06-20', '25.5', '2015-06-20']\n",
      "['\\t108', '서울', 'Jun-14', '98.1', '33', '2014-06-03', '14.5', '2014-06-23']\n",
      "['\\t108', '서울', 'Jun-12', '91.9', '69.5', '2012-06-30', '11.5', '2012-06-30']\n",
      "['\\t108', '서울', 'Sep-14', '88.1', '57.5', '2014-09-03', '11.5', '2014-09-03']\n",
      "['\\t108', '서울', 'Oct-15', '81.5', '35', '2015-10-01', '16.5', '2015-10-01']\n",
      "['\\t108', '서울', 'Apr-15', '80.5', '28', '2015-04-02', '16.5', '2015-04-02']\n",
      "['\\t108', '서울', 'Nov-18', '79.1', '64', '2018-11-08', '', '']\n",
      "['\\t108', '서울', 'Nov-19', '78.8', '21.1', '2019-11-17', '', '']\n",
      "['\\t108', '서울', 'Apr-16', '76.8', '23.5', '2016-04-16', '7.5', '2016-04-17']\n",
      "['\\t108', '서울', 'Oct-16', '74.8', '37', '2016-10-25', '10', '2016-10-25']\n",
      "['\\t108', '서울', 'Feb-13', '74.1', '46.5', '2013-02-01', '', '']\n",
      "['\\t108', '서울', 'Jun-19', '74', '35.3', '2019-06-07', '12.1', '2019-06-07']\n",
      "['\\t108', '서울', 'Aug-15', '72.9', '29', '2015-08-16', '21.5', '2015-08-16']\n",
      "['\\t108', '서울', 'Apr-13', '71.7', '21', '2013-04-29', '11.5', '2013-04-29']\n",
      "['\\t108', '서울', 'Sep-18', '68.5', '34.5', '2018-09-03', '20', '2018-09-03']\n",
      "['\\t108', '서울', 'Nov-12', '67.8', '28', '2012-11-11', '', '']\n",
      "['\\t108', '서울', 'Aug-16', '67.1', '20', '2016-08-26', '11.5', '2016-08-19']\n",
      "['\\t108', '서울', 'Jun-17', '66.6', '29', '2017-06-26', '17', '2017-06-26']\n",
      "['\\t108', '서울', 'May-14', '63', '23', '2014-05-11', '9', '2014-05-11']\n",
      "['\\t108', '서울', 'Nov-21', '62.4', '27.2', '2021-11-30', '', '']\n",
      "['\\t108', '서울', 'Apr-17', '61.6', '37.5', '2017-04-05', '8.5', '2017-04-05']\n",
      "['\\t108', '서울', 'Dec-16', '61.1', '29', '2016-12-21', '', '']\n",
      "['\\t108', '서울', 'Jan-20', '60.5', '46.3', '2020-01-07', '', '']\n",
      "['\\t108', '서울', 'Oct-21', '57', '14.2', '2021-10-10', '12.7', '2021-10-01']\n",
      "['\\t108', '서울', 'Oct-19', '55.5', '25.4', '2019-10-07', '5.6', '2019-10-07']\n",
      "['\\t108', '서울', 'Jun-16', '54.4', '30.5', '2016-06-22', '26', '2016-06-22']\n",
      "['\\t108', '서울', 'Feb-20', '53.1', '16.6', '2020-02-25', '', '']\n",
      "['\\t108', '서울', 'Oct-14', '52.2', '21.5', '2014-10-20', '6', '2014-10-02']\n",
      "['\\t108', '서울', 'Mar-18', '49.5', '27', '2018-03-15', '', '']\n",
      "['\\t108', '서울', 'Feb-16', '47.6', '21', '2016-02-13', '', '']\n",
      "['\\t108', '서울', 'Mar-12', '47.4', '22', '2012-03-23', '', '']\n",
      "['\\t108', '서울', 'Apr-19', '47.3', '17.4', '2019-04-09', '3.8', '2019-04-09']\n",
      "['\\t108', '서울', 'Nov-13', '46.8', '14', '2013-11-24', '', '']\n",
      "['\\t108', '서울', 'Nov-14', '41.5', '18', '2014-11-28', '', '']\n",
      "['\\t108', '서울', 'Dec-12', '41.4', '18.5', '2012-12-14', '', '']\n",
      "['\\t108', '서울', 'Nov-17', '40.7', '24', '2017-11-25', '', '']\n",
      "['\\t108', '서울', 'Mar-16', '40.5', '40', '2016-03-05', '', '']\n",
      "['\\t108', '서울', 'May-19', '37.8', '22', '2019-05-19', '6.1', '2019-05-20']\n",
      "['\\t108', '서울', 'Sep-17', '35', '24', '2017-09-11', '9', '2017-09-11']\n",
      "['\\t108', '서울', 'Dec-17', '34.8', '20', '2017-12-24', '', '']\n",
      "['\\t108', '서울', 'Sep-16', '33', '13.5', '2016-09-27', '4.5', '2016-09-02']\n",
      "['\\t108', '서울', 'Apr-14', '31', '13.5', '2014-04-28', '3.5', '2014-04-29']\n",
      "['\\t108', '서울', 'Feb-18', '29.6', '25', '2018-02-28', '', '']\n",
      "['\\t108', '서울', 'Dec-15', '29.1', '13.5', '2015-12-02', '', '']\n",
      "['\\t108', '서울', 'May-15', '28.9', '14', '2015-05-11', '6.5', '2015-05-11']\n",
      "['\\t108', '서울', 'Jun-13', '28.3', '12', '2013-06-18', '3.5', '2013-06-11']\n",
      "['\\t108', '서울', 'Mar-13', '27.3', '11.5', '2013-03-13', '', '']\n",
      "['\\t108', '서울', 'Mar-19', '26.8', '16.5', '2019-03-20', '', '']\n",
      "['\\t108', '서울', 'Oct-17', '26.5', '20', '2017-10-11', '6', '2017-10-11']\n",
      "['\\t108', '서울', 'Sep-15', '26', '18', '2015-09-03', '16.5', '2015-09-03']\n",
      "['\\t108', '서울', 'Dec-13', '24.7', '14', '2013-12-09', '', '']\n",
      "['\\t108', '서울', 'Feb-19', '23.8', '16', '2019-02-03', '', '']\n",
      "['\\t108', '서울', 'Feb-15', '22.7', '10.5', '2015-02-16', '', '']\n",
      "['\\t108', '서울', 'Dec-19', '22.6', '9.8', '2019-12-17', '', '']\n",
      "['\\t108', '서울', 'Jan-13', '22.1', '16.5', '2013-01-21', '', '']\n",
      "['\\t108', '서울', 'Apr-22', '20.4', '15.5', '2022-04-29', '4', '2022-04-29']\n",
      "['\\t108', '서울', 'Jan-21', '18.9', '9.2', '2021-01-21', '', '']\n",
      "['\\t108', '서울', 'Dec-14', '17.9', '10.5', '2014-12-15', '', '']\n",
      "['\\t108', '서울', 'Apr-20', '16.9', '10.3', '2020-04-19', '3.9', '2020-04-17']\n",
      "['\\t108', '서울', 'Nov-16', '16.7', '5.5', '2016-11-07', '', '']\n",
      "['\\t108', '서울', 'Dec-18', '16.4', '9.5', '2018-12-03', '', '']\n",
      "['\\t108', '서울', 'Mar-20', '16.3', '11.8', '2020-03-10', '', '']\n",
      "['\\t108', '서울', 'Feb-14', '16.2', '11', '2014-02-01', '', '']\n",
      "['\\t108', '서울', 'May-17', '16.1', '6', '2017-05-13', '6', '2017-05-13']\n",
      "['\\t108', '서울', 'Jan-17', '14.9', '4.5', '2017-01-29', '', '']\n",
      "['\\t108', '서울', 'Oct-13', '13.5', '6.5', '2013-10-11', '6', '2013-10-11']\n",
      "['\\t108', '서울', 'Jan-14', '13', '5.3', '2014-01-20', '', '']\n",
      "['\\t108', '서울', 'Jan-15', '11.3', '4', '2015-01-18', '', '']\n",
      "['\\t108', '서울', 'Feb-17', '11.1', '5.1', '2017-02-22', '', '']\n",
      "['\\t108', '서울', 'Mar-15', '9.6', '5.5', '2015-03-03', '', '']\n",
      "['\\t108', '서울', 'Jan-18', '8.5', '3.3', '2018-01-22', '', '']\n",
      "['\\t108', '서울', 'May-12', '8.2', '6.5', '2012-05-14', '2', '2012-05-14']\n",
      "['\\t108', '서울', 'Mar-17', '7.9', '5', '2017-03-01', '', '']\n",
      "['\\t108', '서울', 'Dec-21', '7.9', '2.8', '2021-12-18', '', '']\n",
      "['\\t108', '서울', 'May-22', '7.5', '3.5', '2022-05-25', '2.9', '2022-05-25']\n",
      "['\\t108', '서울', 'Mar-14', '7.2', '3.5', '2014-03-29', '', '']\n",
      "['\\t108', '서울', 'Feb-21', '7.1', '3.4', '2021-02-03', '', '']\n",
      "['\\t108', '서울', 'Jan-12', '6.7', '3.9', '2012-01-31', '', '']\n",
      "['\\t108', '서울', 'Jan-22', '5.5', '1.7', '2022-01-19', '', '']\n",
      "['\\t108', '서울', 'Feb-22', '4.7', '1.7', '2022-02-14', '', '']\n",
      "['\\t108', '서울', 'Dec-20', '4.6', '2.9', '2020-12-13', '', '']\n",
      "['\\t108', '서울', 'Jan-16', '1', '0.4', '2016-01-13', '', '']\n",
      "['\\t108', '서울', 'Feb-12', '0.8', '0.3', '2012-02-23', '', '']\n",
      "['\\t108', '서울', 'Jan-19', '0', '0', '2019-01-28', '', '']\n",
      "['\\t108', '서울', 'Oct-20', '0', '0', '2020-10-22', '0', '2020-10-22']\n",
      "['\\t108', '서울', 'Nov-22', '0', '0', '2022-11-07', '', '']\n",
      "['\\t', '', '', '', '', '', '', '']\n",
      "['\\t', '', '', '', '', '', '', '']\n",
      "['\\t', '', '', '', '', '', '', '']\n",
      "['\\t\\t', '', '', '', '', '', '', '']\n",
      "['\\t', '', '', '', '', '', '', '']\n",
      "['\\t', '', '', '', '', '', '', '']\n"
     ]
    }
   ],
   "source": [
    "import csv\n",
    "f = open('seoul.csv')\n",
    "data = csv.reader(f)\n",
    "for row in data :\n",
    "    print(row)"
   ]
  },
  {
   "cell_type": "code",
   "execution_count": 3,
   "id": "1f6dd6db",
   "metadata": {},
   "outputs": [
    {
     "name": "stdout",
     "output_type": "stream",
     "text": [
      "676.2\n",
      "675.7\n",
      "621\n",
      "564.8\n",
      "464.9\n",
      "448.9\n",
      "393.8\n",
      "358.2\n",
      "297\n",
      "270.4\n",
      "252.3\n",
      "226\n",
      "222\n",
      "212\n",
      "211.2\n",
      "207.9\n",
      "202.6\n",
      "201.5\n",
      "194.4\n",
      "190.5\n",
      "185.6\n",
      "183.1\n",
      "181.5\n",
      "172.8\n",
      "171.5\n",
      "168.3\n",
      "160.5\n",
      "157\n",
      "148.6\n",
      "139.8\n",
      "139.6\n",
      "138.5\n",
      "132\n",
      "131\n",
      "130.3\n",
      "124.1\n",
      "124.1\n",
      "120.5\n",
      "120.1\n",
      "112.4\n",
      "110.9\n",
      "104.6\n",
      "104.6\n",
      "102.6\n",
      "99.3\n",
      "99\n",
      "98.1\n",
      "91.9\n",
      "88.1\n",
      "81.5\n",
      "80.5\n",
      "79.1\n",
      "78.8\n",
      "76.8\n",
      "74.8\n",
      "74.1\n",
      "74\n",
      "72.9\n",
      "71.7\n",
      "68.5\n",
      "67.8\n",
      "67.1\n",
      "66.6\n",
      "63\n",
      "62.4\n",
      "61.6\n",
      "61.1\n",
      "60.5\n",
      "57\n",
      "55.5\n",
      "54.4\n",
      "53.1\n",
      "52.2\n",
      "49.5\n",
      "47.6\n",
      "47.4\n",
      "47.3\n",
      "46.8\n",
      "41.5\n",
      "41.4\n",
      "40.7\n",
      "40.5\n",
      "37.8\n",
      "35\n",
      "34.8\n",
      "33\n",
      "31\n",
      "29.6\n",
      "29.1\n",
      "28.9\n",
      "28.3\n",
      "27.3\n",
      "26.8\n",
      "26.5\n",
      "26\n",
      "24.7\n",
      "23.8\n",
      "22.7\n",
      "22.6\n",
      "22.1\n",
      "20.4\n",
      "18.9\n",
      "17.9\n",
      "16.9\n",
      "16.7\n",
      "16.4\n",
      "16.3\n",
      "16.2\n",
      "16.1\n",
      "14.9\n",
      "13.5\n",
      "13\n",
      "11.3\n",
      "11.1\n",
      "9.6\n",
      "8.5\n",
      "8.2\n",
      "7.9\n",
      "7.9\n",
      "7.5\n",
      "7.2\n",
      "7.1\n",
      "6.7\n",
      "5.5\n",
      "4.7\n",
      "4.6\n",
      "1\n",
      "0.8\n",
      "0\n",
      "0\n",
      "0\n",
      "\n",
      "\n",
      "\n",
      "\n",
      "\n",
      "\n"
     ]
    }
   ],
   "source": [
    "import csv\n",
    "f = open('seoul.csv')\n",
    "data = csv.reader(f)\n",
    "next(data)\n",
    "\n",
    "for row in data :\n",
    "    print(row[3])"
   ]
  },
  {
   "cell_type": "code",
   "execution_count": 4,
   "id": "f2ff5289",
   "metadata": {},
   "outputs": [
    {
     "ename": "TypeError",
     "evalue": "'>' not supported between instances of 'str' and 'int'",
     "output_type": "error",
     "traceback": [
      "\u001b[1;31m---------------------------------------------------------------------------\u001b[0m",
      "\u001b[1;31mTypeError\u001b[0m                                 Traceback (most recent call last)",
      "\u001b[1;32m<ipython-input-4-234abfa71c11>\u001b[0m in \u001b[0;36m<module>\u001b[1;34m\u001b[0m\n\u001b[0;32m      5\u001b[0m \u001b[0mresult\u001b[0m \u001b[1;33m=\u001b[0m \u001b[1;36m0\u001b[0m\u001b[1;33m\u001b[0m\u001b[1;33m\u001b[0m\u001b[0m\n\u001b[0;32m      6\u001b[0m \u001b[1;32mfor\u001b[0m \u001b[0mrow\u001b[0m \u001b[1;32min\u001b[0m \u001b[0mdata\u001b[0m \u001b[1;33m:\u001b[0m\u001b[1;33m\u001b[0m\u001b[1;33m\u001b[0m\u001b[0m\n\u001b[1;32m----> 7\u001b[1;33m     \u001b[1;32mif\u001b[0m \u001b[0mrow\u001b[0m\u001b[1;33m[\u001b[0m\u001b[1;36m3\u001b[0m\u001b[1;33m]\u001b[0m \u001b[1;33m>\u001b[0m \u001b[0mresult\u001b[0m \u001b[1;33m:\u001b[0m\u001b[1;33m\u001b[0m\u001b[1;33m\u001b[0m\u001b[0m\n\u001b[0m\u001b[0;32m      8\u001b[0m         \u001b[0mresult\u001b[0m \u001b[1;33m=\u001b[0m \u001b[0mrow\u001b[0m\u001b[1;33m[\u001b[0m\u001b[1;36m3\u001b[0m\u001b[1;33m]\u001b[0m\u001b[1;33m\u001b[0m\u001b[1;33m\u001b[0m\u001b[0m\n\u001b[0;32m      9\u001b[0m     \u001b[0mprint\u001b[0m\u001b[1;33m(\u001b[0m\u001b[0mresult\u001b[0m\u001b[1;33m)\u001b[0m\u001b[1;33m\u001b[0m\u001b[1;33m\u001b[0m\u001b[0m\n",
      "\u001b[1;31mTypeError\u001b[0m: '>' not supported between instances of 'str' and 'int'"
     ]
    }
   ],
   "source": [
    "import csv\n",
    "f = open('seoul.csv')\n",
    "data = csv.reader(f)\n",
    "\n",
    "result = 0\n",
    "for row in data :\n",
    "    if row[3] > result :\n",
    "        result = row[3]\n",
    "    print(result)"
   ]
  },
  {
   "cell_type": "code",
   "execution_count": 5,
   "id": "f9c249c4",
   "metadata": {},
   "outputs": [
    {
     "name": "stdout",
     "output_type": "stream",
     "text": [
      "[676.2, 675.7, 621.0, 564.8, 464.9, 448.9, 393.8, 358.2, 297.0, 270.4, 252.3, 226.0, 222.0, 212.0, 211.2, 207.9, 202.6, 201.5, 194.4, 190.5, 185.6, 183.1, 181.5, 172.8, 171.5, 168.3, 160.5, 157.0, 148.6, 139.8, 139.6, 138.5, 132.0, 131.0, 130.3, 124.1, 124.1, 120.5, 120.1, 112.4, 110.9, 104.6, 104.6, 102.6, 99.3, 99.0, 98.1, 91.9, 88.1, 81.5, 80.5, 79.1, 78.8, 76.8, 74.8, 74.1, 74.0, 72.9, 71.7, 68.5, 67.8, 67.1, 66.6, 63.0, 62.4, 61.6, 61.1, 60.5, 57.0, 55.5, 54.4, 53.1, 52.2, 49.5, 47.6, 47.4, 47.3, 46.8, 41.5, 41.4, 40.7, 40.5, 37.8, 35.0, 34.8, 33.0, 31.0, 29.6, 29.1, 28.9, 28.3, 27.3, 26.8, 26.5, 26.0, 24.7, 23.8, 22.7, 22.6, 22.1, 20.4, 18.9, 17.9, 16.9, 16.7, 16.4, 16.3, 16.2, 16.1, 14.9, 13.5, 13.0, 11.3, 11.1, 9.6, 8.5, 8.2, 7.9, 7.9, 7.5, 7.2, 7.1, 6.7, 5.5, 4.7, 4.6, 1.0, 0.8, 0.0, 0.0, 0.0]\n"
     ]
    }
   ],
   "source": [
    "import csv\n",
    "f = open('seoul.csv')\n",
    "data = csv.reader(f)\n",
    "next(data)\n",
    "\n",
    "result = []\n",
    "for row in data :\n",
    "    if row[3] != \"\" :\n",
    "        result.append(float(row[3]))\n",
    "print(result)"
   ]
  },
  {
   "cell_type": "code",
   "execution_count": 6,
   "id": "9c56f3da",
   "metadata": {},
   "outputs": [
    {
     "data": {
      "image/png": "[encoded data removed]",
      "text/plain": [
       "<Figure size 432x288 with 1 Axes>"
      ]
     },
     "metadata": {
      "needs_background": "light"
     },
     "output_type": "display_data"
    }
   ],
   "source": [
    "import csv\n",
    "import matplotlib.pyplot as plt\n",
    "\n",
    "f = open('seoul.csv')\n",
    "data = csv.reader(f)\n",
    "next(data)\n",
    "\n",
    "result = []\n",
    "for row in data :\n",
    "    if row[3] != \"\" :\n",
    "        result.append(float(row[3]))\n",
    "\n",
    "plt.title('rain')\n",
    "plt.plot(result)\n",
    "plt.show()"
   ]
  },
  {
   "cell_type": "code",
   "execution_count": 7,
   "id": "0d9b041b",
   "metadata": {},
   "outputs": [
    {
     "name": "stdout",
     "output_type": "stream",
     "text": [
      "[6.7, 22.1, 13.0, 11.3, 1.0, 14.9, 8.5, 0.0, 60.5, 18.9, 5.5, 0.8, 74.1, 16.2, 22.7, 47.6, 11.1, 29.6, 23.8, 53.1, 7.1, 4.7, 47.4, 27.3, 7.2, 9.6, 40.5, 7.9, 49.5, 26.8, 16.3, 110.9, 102.6, 157.0, 71.7, 31.0, 80.5, 76.8, 61.6, 130.3, 47.3, 16.9, 124.1, 20.4, 8.2, 132.0, 63.0, 28.9, 160.5, 16.1, 222.0, 37.8, 112.4, 183.1, 7.5, 91.9, 28.3, 98.1, 99.0, 54.4, 66.6, 171.5, 74.0, 139.6, 104.6, 393.8, 448.9, 676.2, 207.9, 226.0, 358.2, 621.0, 185.6, 194.4, 270.4, 168.3, 252.3, 464.9, 148.6, 172.8, 72.9, 67.1, 297.0, 202.6, 190.5, 675.7, 211.2, 564.8, 212.0, 138.5, 88.1, 26.0, 33.0, 35.0, 68.5, 139.8, 181.5, 131.0, 201.5, 99.3, 13.5, 52.2, 81.5, 74.8, 26.5, 120.5, 55.5, 0.0, 57.0, 124.1, 67.8, 46.8, 41.5, 104.6, 16.7, 40.7, 79.1, 78.8, 120.1, 62.4, 0.0, 41.4, 24.7, 17.9, 29.1, 61.1, 34.8, 16.4, 22.6, 4.6, 7.9]\n"
     ]
    }
   ],
   "source": [
    "import csv\n",
    "f = open('seoul.csv')\n",
    "data = csv.reader(f)\n",
    "next(data)\n",
    "\n",
    "result = []\n",
    "for row in data :\n",
    "    if row[3] != \"\" :\n",
    "        result.append(float(row[3]))\n",
    "print(result)"
   ]
  },
  {
   "cell_type": "code",
   "execution_count": 8,
   "id": "8ba31da0",
   "metadata": {},
   "outputs": [
    {
     "data": {
      "image/png": "[encoded data removed]",
      "text/plain": [
       "<Figure size 432x288 with 1 Axes>"
      ]
     },
     "metadata": {
      "needs_background": "light"
     },
     "output_type": "display_data"
    }
   ],
   "source": [
    "import csv\n",
    "import matplotlib.pyplot as plt\n",
    "\n",
    "f = open('seoul.csv')\n",
    "data = csv.reader(f)\n",
    "next(data)\n",
    "\n",
    "result = []\n",
    "for row in data :\n",
    "    if row[3] != \"\" :\n",
    "        result.append(float(row[3]))\n",
    "\n",
    "plt.title('rain')\n",
    "plt.plot(result)\n",
    "plt.show()"
   ]
  },
  {
   "cell_type": "code",
   "execution_count": 9,
   "id": "dd1c15d1",
   "metadata": {},
   "outputs": [
    {
     "name": "stdout",
     "output_type": "stream",
     "text": [
      "[['일시'], ['2022', '01', '12'], ['2022', '01', '13'], ['2022', '01', '14'], ['2022', '01', '15'], ['2022', '01', '16'], ['2022', '01', '17'], ['2022', '01', '18'], ['2022', '01', '19'], ['2022', '01', '20'], ['2022', '01', '21'], ['2022', '01', '22'], ['2022', '02', '12'], ['2022', '02', '13'], ['2022', '02', '14'], ['2022', '02', '15'], ['2022', '02', '16'], ['2022', '02', '17'], ['2022', '02', '18'], ['2022', '02', '19'], ['2022', '02', '20'], ['2022', '02', '21'], ['2022', '02', '22'], ['2022', '03', '12'], ['2022', '03', '13'], ['2022', '03', '14'], ['2022', '03', '15'], ['2022', '03', '16'], ['2022', '03', '17'], ['2022', '03', '18'], ['2022', '03', '19'], ['2022', '03', '20'], ['2022', '03', '21'], ['2022', '03', '22'], ['2022', '04', '12'], ['2022', '04', '13'], ['2022', '04', '14'], ['2022', '04', '15'], ['2022', '04', '16'], ['2022', '04', '17'], ['2022', '04', '18'], ['2022', '04', '19'], ['2022', '04', '20'], ['2022', '04', '21'], ['2022', '04', '22'], ['2022', '05', '12'], ['2022', '05', '13'], ['2022', '05', '14'], ['2022', '05', '15'], ['2022', '05', '16'], ['2022', '05', '17'], ['2022', '05', '18'], ['2022', '05', '19'], ['2022', '05', '20'], ['2022', '05', '21'], ['2022', '05', '22'], ['2022', '06', '12'], ['2022', '06', '13'], ['2022', '06', '14'], ['2022', '06', '15'], ['2022', '06', '16'], ['2022', '06', '17'], ['2022', '06', '18'], ['2022', '06', '19'], ['2022', '06', '20'], ['2022', '06', '21'], ['2022', '06', '22'], ['2022', '07', '12'], ['2022', '07', '13'], ['2022', '07', '14'], ['2022', '07', '15'], ['2022', '07', '16'], ['2022', '07', '17'], ['2022', '07', '18'], ['2022', '07', '19'], ['2022', '07', '20'], ['2022', '07', '21'], ['2022', '07', '22'], ['2022', '08', '12'], ['2022', '08', '13'], ['2022', '08', '14'], ['2022', '08', '15'], ['2022', '08', '16'], ['2022', '08', '17'], ['2022', '08', '18'], ['2022', '08', '19'], ['2022', '08', '20'], ['2022', '08', '21'], ['2022', '08', '22'], ['2022', '09', '12'], ['2022', '09', '13'], ['2022', '09', '14'], ['2022', '09', '15'], ['2022', '09', '16'], ['2022', '09', '17'], ['2022', '09', '18'], ['2022', '09', '19'], ['2022', '09', '20'], ['2022', '09', '21'], ['2022', '09', '22'], ['2022', '10', '12'], ['2022', '10', '13'], ['2022', '10', '14'], ['2022', '10', '15'], ['2022', '10', '16'], ['2022', '10', '17'], ['2022', '10', '18'], ['2022', '10', '19'], ['2022', '10', '20'], ['2022', '10', '21'], ['2022', '10', '22'], ['2022', '11', '12'], ['2022', '11', '13'], ['2022', '11', '14'], ['2022', '11', '15'], ['2022', '11', '16'], ['2022', '11', '17'], ['2022', '11', '18'], ['2022', '11', '19'], ['2022', '11', '20'], ['2022', '11', '21'], ['2022', '11', '22'], ['2022', '12', '12'], ['2022', '12', '13'], ['2022', '12', '14'], ['2022', '12', '15'], ['2022', '12', '16'], ['2022', '12', '17'], ['2022', '12', '18'], ['2022', '12', '19'], ['2022', '12', '20'], ['2022', '12', '21'], [''], [''], [''], [''], [''], ['']]\n"
     ]
    }
   ],
   "source": [
    "import csv\n",
    "f = open('seoul.csv')\n",
    "data = csv.reader(f)\n",
    "\n",
    "result = []\n",
    "for row in data :\n",
    "    date = row[2].split('-')\n",
    "    result.append(date)\n",
    "print(result)"
   ]
  },
  {
   "cell_type": "code",
   "execution_count": 10,
   "id": "989a4af3",
   "metadata": {},
   "outputs": [
    {
     "ename": "IndexError",
     "evalue": "list index out of range",
     "output_type": "error",
     "traceback": [
      "\u001b[1;31m---------------------------------------------------------------------------\u001b[0m",
      "\u001b[1;31mIndexError\u001b[0m                                Traceback (most recent call last)",
      "\u001b[1;32m<ipython-input-10-dbc9f42c7220>\u001b[0m in \u001b[0;36m<module>\u001b[1;34m\u001b[0m\n\u001b[0;32m      9\u001b[0m \u001b[1;32mfor\u001b[0m \u001b[0mrow\u001b[0m \u001b[1;32min\u001b[0m \u001b[0mdata\u001b[0m \u001b[1;33m:\u001b[0m\u001b[1;33m\u001b[0m\u001b[1;33m\u001b[0m\u001b[0m\n\u001b[0;32m     10\u001b[0m     \u001b[0mdate\u001b[0m \u001b[1;33m=\u001b[0m \u001b[0mrow\u001b[0m\u001b[1;33m[\u001b[0m\u001b[1;36m2\u001b[0m\u001b[1;33m]\u001b[0m\u001b[1;33m.\u001b[0m\u001b[0msplit\u001b[0m\u001b[1;33m(\u001b[0m\u001b[1;34m'-'\u001b[0m\u001b[1;33m)\u001b[0m\u001b[1;33m\u001b[0m\u001b[1;33m\u001b[0m\u001b[0m\n\u001b[1;32m---> 11\u001b[1;33m     \u001b[1;32mif\u001b[0m \u001b[0mdate\u001b[0m\u001b[1;33m[\u001b[0m\u001b[1;36m1\u001b[0m\u001b[1;33m]\u001b[0m \u001b[1;33m==\u001b[0m \u001b[1;34m'04'\u001b[0m \u001b[1;33m:\u001b[0m\u001b[1;33m\u001b[0m\u001b[1;33m\u001b[0m\u001b[0m\n\u001b[0m\u001b[0;32m     12\u001b[0m         \u001b[0mresult\u001b[0m\u001b[1;33m.\u001b[0m\u001b[0mappend\u001b[0m\u001b[1;33m(\u001b[0m\u001b[0mdate\u001b[0m\u001b[1;33m)\u001b[0m\u001b[1;33m\u001b[0m\u001b[1;33m\u001b[0m\u001b[0m\n\u001b[0;32m     13\u001b[0m \u001b[1;33m\u001b[0m\u001b[0m\n",
      "\u001b[1;31mIndexError\u001b[0m: list index out of range"
     ]
    }
   ],
   "source": [
    "import csv\n",
    "import matplotlib.pyplot as plt\n",
    "\n",
    "f = open('seoul.csv')\n",
    "data = csv.reader(f)\n",
    "next(data)\n",
    "\n",
    "result = []\n",
    "for row in data :\n",
    "    date = row[2].split('-')\n",
    "    if date[1] == '04' :\n",
    "        result.append(date)\n",
    "\n",
    "plt.title('April rain')\n",
    "plt.plot(result)\n",
    "plt.show()"
   ]
  },
  {
   "cell_type": "code",
   "execution_count": 11,
   "id": "9f55d194",
   "metadata": {},
   "outputs": [
    {
     "ename": "TypeError",
     "evalue": "unhashable type: 'numpy.ndarray'",
     "output_type": "error",
     "traceback": [
      "\u001b[1;31m---------------------------------------------------------------------------\u001b[0m",
      "\u001b[1;31mTypeError\u001b[0m                                 Traceback (most recent call last)",
      "\u001b[1;32m<ipython-input-11-7c8db903640a>\u001b[0m in \u001b[0;36m<module>\u001b[1;34m\u001b[0m\n\u001b[0;32m     14\u001b[0m \u001b[1;33m\u001b[0m\u001b[0m\n\u001b[0;32m     15\u001b[0m \u001b[0mplt\u001b[0m\u001b[1;33m.\u001b[0m\u001b[0mtitle\u001b[0m\u001b[1;33m(\u001b[0m\u001b[1;34m'April rain'\u001b[0m\u001b[1;33m)\u001b[0m\u001b[1;33m\u001b[0m\u001b[1;33m\u001b[0m\u001b[0m\n\u001b[1;32m---> 16\u001b[1;33m \u001b[0mplt\u001b[0m\u001b[1;33m.\u001b[0m\u001b[0mplot\u001b[0m\u001b[1;33m(\u001b[0m\u001b[0mresult\u001b[0m\u001b[1;33m)\u001b[0m\u001b[1;33m\u001b[0m\u001b[1;33m\u001b[0m\u001b[0m\n\u001b[0m\u001b[0;32m     17\u001b[0m \u001b[0mplt\u001b[0m\u001b[1;33m.\u001b[0m\u001b[0mshow\u001b[0m\u001b[1;33m(\u001b[0m\u001b[1;33m)\u001b[0m\u001b[1;33m\u001b[0m\u001b[1;33m\u001b[0m\u001b[0m\n",
      "\u001b[1;32m~\\anaconda3\\lib\\site-packages\\matplotlib\\pyplot.py\u001b[0m in \u001b[0;36mplot\u001b[1;34m(scalex, scaley, data, *args, **kwargs)\u001b[0m\n\u001b[0;32m   2838\u001b[0m \u001b[1;33m@\u001b[0m\u001b[0m_copy_docstring_and_deprecators\u001b[0m\u001b[1;33m(\u001b[0m\u001b[0mAxes\u001b[0m\u001b[1;33m.\u001b[0m\u001b[0mplot\u001b[0m\u001b[1;33m)\u001b[0m\u001b[1;33m\u001b[0m\u001b[1;33m\u001b[0m\u001b[0m\n\u001b[0;32m   2839\u001b[0m \u001b[1;32mdef\u001b[0m \u001b[0mplot\u001b[0m\u001b[1;33m(\u001b[0m\u001b[1;33m*\u001b[0m\u001b[0margs\u001b[0m\u001b[1;33m,\u001b[0m \u001b[0mscalex\u001b[0m\u001b[1;33m=\u001b[0m\u001b[1;32mTrue\u001b[0m\u001b[1;33m,\u001b[0m \u001b[0mscaley\u001b[0m\u001b[1;33m=\u001b[0m\u001b[1;32mTrue\u001b[0m\u001b[1;33m,\u001b[0m \u001b[0mdata\u001b[0m\u001b[1;33m=\u001b[0m\u001b[1;32mNone\u001b[0m\u001b[1;33m,\u001b[0m \u001b[1;33m**\u001b[0m\u001b[0mkwargs\u001b[0m\u001b[1;33m)\u001b[0m\u001b[1;33m:\u001b[0m\u001b[1;33m\u001b[0m\u001b[1;33m\u001b[0m\u001b[0m\n\u001b[1;32m-> 2840\u001b[1;33m     return gca().plot(\n\u001b[0m\u001b[0;32m   2841\u001b[0m         \u001b[1;33m*\u001b[0m\u001b[0margs\u001b[0m\u001b[1;33m,\u001b[0m \u001b[0mscalex\u001b[0m\u001b[1;33m=\u001b[0m\u001b[0mscalex\u001b[0m\u001b[1;33m,\u001b[0m \u001b[0mscaley\u001b[0m\u001b[1;33m=\u001b[0m\u001b[0mscaley\u001b[0m\u001b[1;33m,\u001b[0m\u001b[1;33m\u001b[0m\u001b[1;33m\u001b[0m\u001b[0m\n\u001b[0;32m   2842\u001b[0m         **({\"data\": data} if data is not None else {}), **kwargs)\n",
      "\u001b[1;32m~\\anaconda3\\lib\\site-packages\\matplotlib\\axes\\_axes.py\u001b[0m in \u001b[0;36mplot\u001b[1;34m(self, scalex, scaley, data, *args, **kwargs)\u001b[0m\n\u001b[0;32m   1741\u001b[0m         \"\"\"\n\u001b[0;32m   1742\u001b[0m         \u001b[0mkwargs\u001b[0m \u001b[1;33m=\u001b[0m \u001b[0mcbook\u001b[0m\u001b[1;33m.\u001b[0m\u001b[0mnormalize_kwargs\u001b[0m\u001b[1;33m(\u001b[0m\u001b[0mkwargs\u001b[0m\u001b[1;33m,\u001b[0m \u001b[0mmlines\u001b[0m\u001b[1;33m.\u001b[0m\u001b[0mLine2D\u001b[0m\u001b[1;33m)\u001b[0m\u001b[1;33m\u001b[0m\u001b[1;33m\u001b[0m\u001b[0m\n\u001b[1;32m-> 1743\u001b[1;33m         \u001b[0mlines\u001b[0m \u001b[1;33m=\u001b[0m \u001b[1;33m[\u001b[0m\u001b[1;33m*\u001b[0m\u001b[0mself\u001b[0m\u001b[1;33m.\u001b[0m\u001b[0m_get_lines\u001b[0m\u001b[1;33m(\u001b[0m\u001b[1;33m*\u001b[0m\u001b[0margs\u001b[0m\u001b[1;33m,\u001b[0m \u001b[0mdata\u001b[0m\u001b[1;33m=\u001b[0m\u001b[0mdata\u001b[0m\u001b[1;33m,\u001b[0m \u001b[1;33m**\u001b[0m\u001b[0mkwargs\u001b[0m\u001b[1;33m)\u001b[0m\u001b[1;33m]\u001b[0m\u001b[1;33m\u001b[0m\u001b[1;33m\u001b[0m\u001b[0m\n\u001b[0m\u001b[0;32m   1744\u001b[0m         \u001b[1;32mfor\u001b[0m \u001b[0mline\u001b[0m \u001b[1;32min\u001b[0m \u001b[0mlines\u001b[0m\u001b[1;33m:\u001b[0m\u001b[1;33m\u001b[0m\u001b[1;33m\u001b[0m\u001b[0m\n\u001b[0;32m   1745\u001b[0m             \u001b[0mself\u001b[0m\u001b[1;33m.\u001b[0m\u001b[0madd_line\u001b[0m\u001b[1;33m(\u001b[0m\u001b[0mline\u001b[0m\u001b[1;33m)\u001b[0m\u001b[1;33m\u001b[0m\u001b[1;33m\u001b[0m\u001b[0m\n",
      "\u001b[1;32m~\\anaconda3\\lib\\site-packages\\matplotlib\\axes\\_base.py\u001b[0m in \u001b[0;36m__call__\u001b[1;34m(self, data, *args, **kwargs)\u001b[0m\n\u001b[0;32m    271\u001b[0m                 \u001b[0mthis\u001b[0m \u001b[1;33m+=\u001b[0m \u001b[0margs\u001b[0m\u001b[1;33m[\u001b[0m\u001b[1;36m0\u001b[0m\u001b[1;33m]\u001b[0m\u001b[1;33m,\u001b[0m\u001b[1;33m\u001b[0m\u001b[1;33m\u001b[0m\u001b[0m\n\u001b[0;32m    272\u001b[0m                 \u001b[0margs\u001b[0m \u001b[1;33m=\u001b[0m \u001b[0margs\u001b[0m\u001b[1;33m[\u001b[0m\u001b[1;36m1\u001b[0m\u001b[1;33m:\u001b[0m\u001b[1;33m]\u001b[0m\u001b[1;33m\u001b[0m\u001b[1;33m\u001b[0m\u001b[0m\n\u001b[1;32m--> 273\u001b[1;33m             \u001b[1;32myield\u001b[0m \u001b[1;32mfrom\u001b[0m \u001b[0mself\u001b[0m\u001b[1;33m.\u001b[0m\u001b[0m_plot_args\u001b[0m\u001b[1;33m(\u001b[0m\u001b[0mthis\u001b[0m\u001b[1;33m,\u001b[0m \u001b[0mkwargs\u001b[0m\u001b[1;33m)\u001b[0m\u001b[1;33m\u001b[0m\u001b[1;33m\u001b[0m\u001b[0m\n\u001b[0m\u001b[0;32m    274\u001b[0m \u001b[1;33m\u001b[0m\u001b[0m\n\u001b[0;32m    275\u001b[0m     \u001b[1;32mdef\u001b[0m \u001b[0mget_next_color\u001b[0m\u001b[1;33m(\u001b[0m\u001b[0mself\u001b[0m\u001b[1;33m)\u001b[0m\u001b[1;33m:\u001b[0m\u001b[1;33m\u001b[0m\u001b[1;33m\u001b[0m\u001b[0m\n",
      "\u001b[1;32m~\\anaconda3\\lib\\site-packages\\matplotlib\\axes\\_base.py\u001b[0m in \u001b[0;36m_plot_args\u001b[1;34m(self, tup, kwargs)\u001b[0m\n\u001b[0;32m    394\u001b[0m             \u001b[0mself\u001b[0m\u001b[1;33m.\u001b[0m\u001b[0maxes\u001b[0m\u001b[1;33m.\u001b[0m\u001b[0mxaxis\u001b[0m\u001b[1;33m.\u001b[0m\u001b[0mupdate_units\u001b[0m\u001b[1;33m(\u001b[0m\u001b[0mx\u001b[0m\u001b[1;33m)\u001b[0m\u001b[1;33m\u001b[0m\u001b[1;33m\u001b[0m\u001b[0m\n\u001b[0;32m    395\u001b[0m         \u001b[1;32mif\u001b[0m \u001b[0mself\u001b[0m\u001b[1;33m.\u001b[0m\u001b[0maxes\u001b[0m\u001b[1;33m.\u001b[0m\u001b[0myaxis\u001b[0m \u001b[1;32mis\u001b[0m \u001b[1;32mnot\u001b[0m \u001b[1;32mNone\u001b[0m\u001b[1;33m:\u001b[0m\u001b[1;33m\u001b[0m\u001b[1;33m\u001b[0m\u001b[0m\n\u001b[1;32m--> 396\u001b[1;33m             \u001b[0mself\u001b[0m\u001b[1;33m.\u001b[0m\u001b[0maxes\u001b[0m\u001b[1;33m.\u001b[0m\u001b[0myaxis\u001b[0m\u001b[1;33m.\u001b[0m\u001b[0mupdate_units\u001b[0m\u001b[1;33m(\u001b[0m\u001b[0my\u001b[0m\u001b[1;33m)\u001b[0m\u001b[1;33m\u001b[0m\u001b[1;33m\u001b[0m\u001b[0m\n\u001b[0m\u001b[0;32m    397\u001b[0m \u001b[1;33m\u001b[0m\u001b[0m\n\u001b[0;32m    398\u001b[0m         \u001b[1;32mif\u001b[0m \u001b[0mx\u001b[0m\u001b[1;33m.\u001b[0m\u001b[0mshape\u001b[0m\u001b[1;33m[\u001b[0m\u001b[1;36m0\u001b[0m\u001b[1;33m]\u001b[0m \u001b[1;33m!=\u001b[0m \u001b[0my\u001b[0m\u001b[1;33m.\u001b[0m\u001b[0mshape\u001b[0m\u001b[1;33m[\u001b[0m\u001b[1;36m0\u001b[0m\u001b[1;33m]\u001b[0m\u001b[1;33m:\u001b[0m\u001b[1;33m\u001b[0m\u001b[1;33m\u001b[0m\u001b[0m\n",
      "\u001b[1;32m~\\anaconda3\\lib\\site-packages\\matplotlib\\axis.py\u001b[0m in \u001b[0;36mupdate_units\u001b[1;34m(self, data)\u001b[0m\n\u001b[0;32m   1464\u001b[0m         \u001b[0mneednew\u001b[0m \u001b[1;33m=\u001b[0m \u001b[0mself\u001b[0m\u001b[1;33m.\u001b[0m\u001b[0mconverter\u001b[0m \u001b[1;33m!=\u001b[0m \u001b[0mconverter\u001b[0m\u001b[1;33m\u001b[0m\u001b[1;33m\u001b[0m\u001b[0m\n\u001b[0;32m   1465\u001b[0m         \u001b[0mself\u001b[0m\u001b[1;33m.\u001b[0m\u001b[0mconverter\u001b[0m \u001b[1;33m=\u001b[0m \u001b[0mconverter\u001b[0m\u001b[1;33m\u001b[0m\u001b[1;33m\u001b[0m\u001b[0m\n\u001b[1;32m-> 1466\u001b[1;33m         \u001b[0mdefault\u001b[0m \u001b[1;33m=\u001b[0m \u001b[0mself\u001b[0m\u001b[1;33m.\u001b[0m\u001b[0mconverter\u001b[0m\u001b[1;33m.\u001b[0m\u001b[0mdefault_units\u001b[0m\u001b[1;33m(\u001b[0m\u001b[0mdata\u001b[0m\u001b[1;33m,\u001b[0m \u001b[0mself\u001b[0m\u001b[1;33m)\u001b[0m\u001b[1;33m\u001b[0m\u001b[1;33m\u001b[0m\u001b[0m\n\u001b[0m\u001b[0;32m   1467\u001b[0m         \u001b[1;32mif\u001b[0m \u001b[0mdefault\u001b[0m \u001b[1;32mis\u001b[0m \u001b[1;32mnot\u001b[0m \u001b[1;32mNone\u001b[0m \u001b[1;32mand\u001b[0m \u001b[0mself\u001b[0m\u001b[1;33m.\u001b[0m\u001b[0munits\u001b[0m \u001b[1;32mis\u001b[0m \u001b[1;32mNone\u001b[0m\u001b[1;33m:\u001b[0m\u001b[1;33m\u001b[0m\u001b[1;33m\u001b[0m\u001b[0m\n\u001b[0;32m   1468\u001b[0m             \u001b[0mself\u001b[0m\u001b[1;33m.\u001b[0m\u001b[0mset_units\u001b[0m\u001b[1;33m(\u001b[0m\u001b[0mdefault\u001b[0m\u001b[1;33m)\u001b[0m\u001b[1;33m\u001b[0m\u001b[1;33m\u001b[0m\u001b[0m\n",
      "\u001b[1;32m~\\anaconda3\\lib\\site-packages\\matplotlib\\category.py\u001b[0m in \u001b[0;36mdefault_units\u001b[1;34m(data, axis)\u001b[0m\n\u001b[0;32m    105\u001b[0m         \u001b[1;31m# the conversion call stack is default_units -> axis_info -> convert\u001b[0m\u001b[1;33m\u001b[0m\u001b[1;33m\u001b[0m\u001b[1;33m\u001b[0m\u001b[0m\n\u001b[0;32m    106\u001b[0m         \u001b[1;32mif\u001b[0m \u001b[0maxis\u001b[0m\u001b[1;33m.\u001b[0m\u001b[0munits\u001b[0m \u001b[1;32mis\u001b[0m \u001b[1;32mNone\u001b[0m\u001b[1;33m:\u001b[0m\u001b[1;33m\u001b[0m\u001b[1;33m\u001b[0m\u001b[0m\n\u001b[1;32m--> 107\u001b[1;33m             \u001b[0maxis\u001b[0m\u001b[1;33m.\u001b[0m\u001b[0mset_units\u001b[0m\u001b[1;33m(\u001b[0m\u001b[0mUnitData\u001b[0m\u001b[1;33m(\u001b[0m\u001b[0mdata\u001b[0m\u001b[1;33m)\u001b[0m\u001b[1;33m)\u001b[0m\u001b[1;33m\u001b[0m\u001b[1;33m\u001b[0m\u001b[0m\n\u001b[0m\u001b[0;32m    108\u001b[0m         \u001b[1;32melse\u001b[0m\u001b[1;33m:\u001b[0m\u001b[1;33m\u001b[0m\u001b[1;33m\u001b[0m\u001b[0m\n\u001b[0;32m    109\u001b[0m             \u001b[0maxis\u001b[0m\u001b[1;33m.\u001b[0m\u001b[0munits\u001b[0m\u001b[1;33m.\u001b[0m\u001b[0mupdate\u001b[0m\u001b[1;33m(\u001b[0m\u001b[0mdata\u001b[0m\u001b[1;33m)\u001b[0m\u001b[1;33m\u001b[0m\u001b[1;33m\u001b[0m\u001b[0m\n",
      "\u001b[1;32m~\\anaconda3\\lib\\site-packages\\matplotlib\\category.py\u001b[0m in \u001b[0;36m__init__\u001b[1;34m(self, data)\u001b[0m\n\u001b[0;32m    174\u001b[0m         \u001b[0mself\u001b[0m\u001b[1;33m.\u001b[0m\u001b[0m_counter\u001b[0m \u001b[1;33m=\u001b[0m \u001b[0mitertools\u001b[0m\u001b[1;33m.\u001b[0m\u001b[0mcount\u001b[0m\u001b[1;33m(\u001b[0m\u001b[1;33m)\u001b[0m\u001b[1;33m\u001b[0m\u001b[1;33m\u001b[0m\u001b[0m\n\u001b[0;32m    175\u001b[0m         \u001b[1;32mif\u001b[0m \u001b[0mdata\u001b[0m \u001b[1;32mis\u001b[0m \u001b[1;32mnot\u001b[0m \u001b[1;32mNone\u001b[0m\u001b[1;33m:\u001b[0m\u001b[1;33m\u001b[0m\u001b[1;33m\u001b[0m\u001b[0m\n\u001b[1;32m--> 176\u001b[1;33m             \u001b[0mself\u001b[0m\u001b[1;33m.\u001b[0m\u001b[0mupdate\u001b[0m\u001b[1;33m(\u001b[0m\u001b[0mdata\u001b[0m\u001b[1;33m)\u001b[0m\u001b[1;33m\u001b[0m\u001b[1;33m\u001b[0m\u001b[0m\n\u001b[0m\u001b[0;32m    177\u001b[0m \u001b[1;33m\u001b[0m\u001b[0m\n\u001b[0;32m    178\u001b[0m     \u001b[1;33m@\u001b[0m\u001b[0mstaticmethod\u001b[0m\u001b[1;33m\u001b[0m\u001b[1;33m\u001b[0m\u001b[0m\n",
      "\u001b[1;32m~\\anaconda3\\lib\\site-packages\\matplotlib\\category.py\u001b[0m in \u001b[0;36mupdate\u001b[1;34m(self, data)\u001b[0m\n\u001b[0;32m    207\u001b[0m         \u001b[1;31m# check if convertible to number:\u001b[0m\u001b[1;33m\u001b[0m\u001b[1;33m\u001b[0m\u001b[1;33m\u001b[0m\u001b[0m\n\u001b[0;32m    208\u001b[0m         \u001b[0mconvertible\u001b[0m \u001b[1;33m=\u001b[0m \u001b[1;32mTrue\u001b[0m\u001b[1;33m\u001b[0m\u001b[1;33m\u001b[0m\u001b[0m\n\u001b[1;32m--> 209\u001b[1;33m         \u001b[1;32mfor\u001b[0m \u001b[0mval\u001b[0m \u001b[1;32min\u001b[0m \u001b[0mOrderedDict\u001b[0m\u001b[1;33m.\u001b[0m\u001b[0mfromkeys\u001b[0m\u001b[1;33m(\u001b[0m\u001b[0mdata\u001b[0m\u001b[1;33m)\u001b[0m\u001b[1;33m:\u001b[0m\u001b[1;33m\u001b[0m\u001b[1;33m\u001b[0m\u001b[0m\n\u001b[0m\u001b[0;32m    210\u001b[0m             \u001b[1;31m# OrderedDict just iterates over unique values in data.\u001b[0m\u001b[1;33m\u001b[0m\u001b[1;33m\u001b[0m\u001b[1;33m\u001b[0m\u001b[0m\n\u001b[0;32m    211\u001b[0m             \u001b[0mcbook\u001b[0m\u001b[1;33m.\u001b[0m\u001b[0m_check_isinstance\u001b[0m\u001b[1;33m(\u001b[0m\u001b[1;33m(\u001b[0m\u001b[0mstr\u001b[0m\u001b[1;33m,\u001b[0m \u001b[0mbytes\u001b[0m\u001b[1;33m)\u001b[0m\u001b[1;33m,\u001b[0m \u001b[0mvalue\u001b[0m\u001b[1;33m=\u001b[0m\u001b[0mval\u001b[0m\u001b[1;33m)\u001b[0m\u001b[1;33m\u001b[0m\u001b[1;33m\u001b[0m\u001b[0m\n",
      "\u001b[1;31mTypeError\u001b[0m: unhashable type: 'numpy.ndarray'"
     ]
    },
    {
     "data": {
      "image/png": "[encoded data removed]",
      "text/plain": [
       "<Figure size 432x288 with 1 Axes>"
      ]
     },
     "metadata": {
      "needs_background": "light"
     },
     "output_type": "display_data"
    }
   ],
   "source": [
    "import csv\n",
    "import matplotlib.pyplot as plt\n",
    "\n",
    "f = open('seoul.csv')\n",
    "data = csv.reader(f)\n",
    "next(data)\n",
    "\n",
    "result = []\n",
    "for row in data :\n",
    "    if row[2] != \"\" :\n",
    "        date = row[2].split('-')\n",
    "        if date[1] == '04' :\n",
    "            result.append(date)\n",
    "\n",
    "plt.title('April rain')\n",
    "plt.plot(result)\n",
    "plt.show()"
   ]
  },
  {
   "cell_type": "code",
   "execution_count": 12,
   "id": "0f0d019e",
   "metadata": {},
   "outputs": [
    {
     "data": {
      "image/png": "[encoded data removed]",
      "text/plain": [
       "<Figure size 432x288 with 1 Axes>"
      ]
     },
     "metadata": {
      "needs_background": "light"
     },
     "output_type": "display_data"
    }
   ],
   "source": [
    "import csv\n",
    "import matplotlib.pyplot as plt\n",
    "\n",
    "f = open('seoul.csv')\n",
    "data = csv.reader(f)\n",
    "next(data)\n",
    "\n",
    "result = []\n",
    "for row in data :\n",
    "    if row[2] != \"\" :\n",
    "        date = row[2].split('-')\n",
    "        if date[1] == '04' :\n",
    "            result.append(row[3])\n",
    "\n",
    "plt.title('April rain')\n",
    "plt.plot(result)\n",
    "plt.show()"
   ]
  },
  {
   "cell_type": "code",
   "execution_count": 14,
   "id": "b187d630",
   "metadata": {},
   "outputs": [
    {
     "data": {
      "image/png": "[encoded data removed]",
      "text/plain": [
       "<Figure size 432x288 with 1 Axes>"
      ]
     },
     "metadata": {
      "needs_background": "light"
     },
     "output_type": "display_data"
    }
   ],
   "source": [
    "import csv\n",
    "import matplotlib.pyplot as plt\n",
    "\n",
    "f = open('seoul.csv')\n",
    "data = csv.reader(f)\n",
    "next(data)\n",
    "\n",
    "result = []\n",
    "for row in data :\n",
    "    if row[2] != \"\" :\n",
    "        date = row[2].split('-')\n",
    "        if date[1] == '04' :\n",
    "            result.append(float(row[3]))\n",
    "\n",
    "plt.title('April rain')\n",
    "plt.plot(result)\n",
    "plt.show()"
   ]
  },
  {
   "cell_type": "code",
   "execution_count": null,
   "id": "54dc14fd",
   "metadata": {},
   "outputs": [],
   "source": []
  }
 ],
 "metadata": {
  "kernelspec": {
   "display_name": "Python 3",
   "language": "python",
   "name": "python3"
  },
  "language_info": {
   "codemirror_mode": {
    "name": "ipython",
    "version": 3
   },
   "file_extension": ".py",
   "mimetype": "text/x-python",
   "name": "python",
   "nbconvert_exporter": "python",
   "pygments_lexer": "ipython3",
   "version": "3.8.8"
  }
 },
 "nbformat": 4,
 "nbformat_minor": 5
}
