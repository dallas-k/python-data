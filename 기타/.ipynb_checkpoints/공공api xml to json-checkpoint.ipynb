{
 "cells": [
  {
   "cell_type": "code",
   "execution_count": 1,
   "id": "64304073",
   "metadata": {},
   "outputs": [],
   "source": [
    "import requests"
   ]
  },
  {
   "cell_type": "code",
   "execution_count": 2,
   "id": "aa0ed5f4",
   "metadata": {},
   "outputs": [],
   "source": [
    "import json\n",
    "import xmltodict"
   ]
  },
  {
   "cell_type": "code",
   "execution_count": 3,
   "id": "49f1b9c9",
   "metadata": {},
   "outputs": [],
   "source": [
    "url = 'https://apis.data.go.kr/B552657/ErmctInsttInfoInqireService/getParmacyListInfoInqire?serviceKey=mmgaRe2jArTS%2B4%2BZ%2F3bFdLysADDBgldElPJr8bttAHStiCDJ0b1pxBpM%2FMHL%2F8Z6QwtT2Y3aRiK2WUdt6qx8xQ%3D%3D&Q0=%EC%84%9C%EC%9A%B8%ED%8A%B9%EB%B3%84%EC%8B%9C&Q1=%EA%B0%95%EB%82%A8%EA%B5%AC&QT=1&QN=%EC%82%BC%EC%84%B1%EC%95%BD%EA%B5%AD&ORD=NAME&pageNo=1&numOfRows=100'"
   ]
  },
  {
   "cell_type": "code",
   "execution_count": 8,
   "id": "8506e7bf",
   "metadata": {},
   "outputs": [
    {
     "name": "stdout",
     "output_type": "stream",
     "text": [
      "<?xml version=\"1.0\" encoding=\"UTF-8\" standalone=\"yes\"?><response><header><resultCode>00</resultCode><resultMsg>NORMAL SERVICE.</resultMsg></header><body><items><item><dutyAddr>서울특별시 강남구 일원로 53 (일원동) </dutyAddr><dutyMapimg>소림빌딩 1층</dutyMapimg><dutyName>E-삼성약국</dutyName><dutyTel1>02-3412-1254</dutyTel1><dutyTime1c>1900</dutyTime1c><dutyTime1s>0900</dutyTime1s><dutyTime2c>1900</dutyTime2c><dutyTime2s>0900</dutyTime2s><dutyTime3c>1900</dutyTime3c><dutyTime3s>0900</dutyTime3s><dutyTime4c>1900</dutyTime4c><dutyTime4s>0900</dutyTime4s><dutyTime5c>1900</dutyTime5c><dutyTime5s>0900</dutyTime5s><dutyTime6c>1300</dutyTime6c><dutyTime6s>0900</dutyTime6s><hpid>C1104799</hpid><postCdn1>063</postCdn1><postCdn2>43 </postCdn2><rnum>1</rnum><wgs84Lat>37.48926299528938</wgs84Lat><wgs84Lon>127.08181088280385</wgs84Lon></item><item><dutyAddr>서울특별시 강남구 일원로 45, 대훈빌딩 1층 (일원동)</dutyAddr><dutyMapimg>대청역 4번출구에서 423m</dutyMapimg><dutyName>무지개삼성약국</dutyName><dutyTel1>02-2226-5467</dutyTel1><dutyTime1c>1900</dutyTime1c><dutyTime1s>0900</dutyTime1s><dutyTime2c>1900</dutyTime2c><dutyTime2s>0900</dutyTime2s><dutyTime3c>1900</dutyTime3c><dutyTime3s>0900</dutyTime3s><dutyTime4c>1900</dutyTime4c><dutyTime4s>0900</dutyTime4s><dutyTime5c>1900</dutyTime5c><dutyTime5s>0900</dutyTime5s><dutyTime6c>1300</dutyTime6c><dutyTime6s>0900</dutyTime6s><hpid>C1109561</hpid><postCdn1>063</postCdn1><postCdn2>43 </postCdn2><rnum>2</rnum><wgs84Lat>37.489904628125</wgs84Lat><wgs84Lon>127.08151340546</wgs84Lon></item><item><dutyAddr>서울특별시 강남구 광평로19길 10, 101호 (수서동, 까치마을아파트상가)</dutyAddr><dutyMapimg>삼성의료원10번출근처/까치마을아파트상가 101호</dutyMapimg><dutyName>삼성약국</dutyName><dutyTel1>02-451-7281</dutyTel1><dutyTime1c>2030</dutyTime1c><dutyTime1s>0900</dutyTime1s><dutyTime2c>2030</dutyTime2c><dutyTime2s>0900</dutyTime2s><dutyTime3c>2030</dutyTime3c><dutyTime3s>0900</dutyTime3s><dutyTime4c>2030</dutyTime4c><dutyTime4s>0900</dutyTime4s><dutyTime5c>2030</dutyTime5c><dutyTime5s>0900</dutyTime5s><dutyTime6c>2030</dutyTime6c><dutyTime6s>0900</dutyTime6s><hpid>C1101446</hpid><postCdn1>063</postCdn1><postCdn2>54 </postCdn2><rnum>3</rnum><wgs84Lat>37.4854861607</wgs84Lat><wgs84Lon>127.086600835</wgs84Lon></item><item><dutyAddr>서울특별시 강남구 일원로 53, 1층 (일원동, 소림빌딩)</dutyAddr><dutyName>이삼성약국</dutyName><dutyTel1>02-3412-1254</dutyTel1><dutyTime1c>1900</dutyTime1c><dutyTime1s>0900</dutyTime1s><dutyTime2c>1900</dutyTime2c><dutyTime2s>0900</dutyTime2s><dutyTime3c>1900</dutyTime3c><dutyTime3s>0900</dutyTime3s><dutyTime4c>1900</dutyTime4c><dutyTime4s>0900</dutyTime4s><dutyTime5c>1900</dutyTime5c><dutyTime5s>0900</dutyTime5s><dutyTime6c>1300</dutyTime6c><dutyTime6s>0900</dutyTime6s><hpid>C1109216</hpid><postCdn1>063</postCdn1><postCdn2>43 </postCdn2><rnum>4</rnum><wgs84Lat>37.4892626357407</wgs84Lat><wgs84Lon>127.081809638604</wgs84Lon></item></items><numOfRows>100</numOfRows><pageNo>1</pageNo><totalCount>4</totalCount></body></response>\n"
     ]
    }
   ],
   "source": [
    "import requests\n",
    "\n",
    "url = 'http://apis.data.go.kr/B552657/ErmctInsttInfoInqireService/getParmacyListInfoInqire?serviceKey=mmgaRe2jArTS%2B4%2BZ%2F3bFdLysADDBgldElPJr8bttAHStiCDJ0b1pxBpM%2FMHL%2F8Z6QwtT2Y3aRiK2WUdt6qx8xQ%3D%3D&Q0=%EC%84%9C%EC%9A%B8%ED%8A%B9%EB%B3%84%EC%8B%9C&Q1=%EA%B0%95%EB%82%A8%EA%B5%AC&QT=1&QN=%EC%82%BC%EC%84%B1%EC%95%BD%EA%B5%AD&ORD=NAME&pageNo=1&numOfRows=100'\n",
    "\n",
    "response = requests.get(url)\n",
    "status = response.status_code\n",
    "text = response.text\n",
    "\n",
    "print(text)"
   ]
  },
  {
   "cell_type": "code",
   "execution_count": 11,
   "id": "28b0418f",
   "metadata": {},
   "outputs": [],
   "source": [
    "jsonString = json.dumps(xmltodict.parse(text), indent=4)"
   ]
  },
  {
   "cell_type": "code",
   "execution_count": 15,
   "id": "0686dcf8",
   "metadata": {},
   "outputs": [
    {
     "data": {
      "text/plain": [
       "'{\\n    \"response\": {\\n        \"header\": {\\n            \"resultCode\": \"00\",\\n            \"resultMsg\": \"NORMAL SERVICE.\"\\n        },\\n        \"body\": {\\n            \"items\": {\\n                \"item\": [\\n                    {\\n                        \"dutyAddr\": \"\\\\uc11c\\\\uc6b8\\\\ud2b9\\\\ubcc4\\\\uc2dc \\\\uac15\\\\ub0a8\\\\uad6c \\\\uc77c\\\\uc6d0\\\\ub85c 53 (\\\\uc77c\\\\uc6d0\\\\ub3d9)\",\\n                        \"dutyMapimg\": \"\\\\uc18c\\\\ub9bc\\\\ube4c\\\\ub529 1\\\\uce35\",\\n                        \"dutyName\": \"E-\\\\uc0bc\\\\uc131\\\\uc57d\\\\uad6d\",\\n                        \"dutyTel1\": \"02-3412-1254\",\\n                        \"dutyTime1c\": \"1900\",\\n                        \"dutyTime1s\": \"0900\",\\n                        \"dutyTime2c\": \"1900\",\\n                        \"dutyTime2s\": \"0900\",\\n                        \"dutyTime3c\": \"1900\",\\n                        \"dutyTime3s\": \"0900\",\\n                        \"dutyTime4c\": \"1900\",\\n                        \"dutyTime4s\": \"0900\",\\n                        \"dutyTime5c\": \"1900\",\\n                        \"dutyTime5s\": \"0900\",\\n                        \"dutyTime6c\": \"1300\",\\n                        \"dutyTime6s\": \"0900\",\\n                        \"hpid\": \"C1104799\",\\n                        \"postCdn1\": \"063\",\\n                        \"postCdn2\": \"43\",\\n                        \"rnum\": \"1\",\\n                        \"wgs84Lat\": \"37.48926299528938\",\\n                        \"wgs84Lon\": \"127.08181088280385\"\\n                    },\\n                    {\\n                        \"dutyAddr\": \"\\\\uc11c\\\\uc6b8\\\\ud2b9\\\\ubcc4\\\\uc2dc \\\\uac15\\\\ub0a8\\\\uad6c \\\\uc77c\\\\uc6d0\\\\ub85c 45, \\\\ub300\\\\ud6c8\\\\ube4c\\\\ub529 1\\\\uce35 (\\\\uc77c\\\\uc6d0\\\\ub3d9)\",\\n                        \"dutyMapimg\": \"\\\\ub300\\\\uccad\\\\uc5ed 4\\\\ubc88\\\\ucd9c\\\\uad6c\\\\uc5d0\\\\uc11c 423m\",\\n                        \"dutyName\": \"\\\\ubb34\\\\uc9c0\\\\uac1c\\\\uc0bc\\\\uc131\\\\uc57d\\\\uad6d\",\\n                        \"dutyTel1\": \"02-2226-5467\",\\n                        \"dutyTime1c\": \"1900\",\\n                        \"dutyTime1s\": \"0900\",\\n                        \"dutyTime2c\": \"1900\",\\n                        \"dutyTime2s\": \"0900\",\\n                        \"dutyTime3c\": \"1900\",\\n                        \"dutyTime3s\": \"0900\",\\n                        \"dutyTime4c\": \"1900\",\\n                        \"dutyTime4s\": \"0900\",\\n                        \"dutyTime5c\": \"1900\",\\n                        \"dutyTime5s\": \"0900\",\\n                        \"dutyTime6c\": \"1300\",\\n                        \"dutyTime6s\": \"0900\",\\n                        \"hpid\": \"C1109561\",\\n                        \"postCdn1\": \"063\",\\n                        \"postCdn2\": \"43\",\\n                        \"rnum\": \"2\",\\n                        \"wgs84Lat\": \"37.489904628125\",\\n                        \"wgs84Lon\": \"127.08151340546\"\\n                    },\\n                    {\\n                        \"dutyAddr\": \"\\\\uc11c\\\\uc6b8\\\\ud2b9\\\\ubcc4\\\\uc2dc \\\\uac15\\\\ub0a8\\\\uad6c \\\\uad11\\\\ud3c9\\\\ub85c19\\\\uae38 10, 101\\\\ud638 (\\\\uc218\\\\uc11c\\\\ub3d9, \\\\uae4c\\\\uce58\\\\ub9c8\\\\uc744\\\\uc544\\\\ud30c\\\\ud2b8\\\\uc0c1\\\\uac00)\",\\n                        \"dutyMapimg\": \"\\\\uc0bc\\\\uc131\\\\uc758\\\\ub8cc\\\\uc6d010\\\\ubc88\\\\ucd9c\\\\uadfc\\\\ucc98/\\\\uae4c\\\\uce58\\\\ub9c8\\\\uc744\\\\uc544\\\\ud30c\\\\ud2b8\\\\uc0c1\\\\uac00 101\\\\ud638\",\\n                        \"dutyName\": \"\\\\uc0bc\\\\uc131\\\\uc57d\\\\uad6d\",\\n                        \"dutyTel1\": \"02-451-7281\",\\n                        \"dutyTime1c\": \"2030\",\\n                        \"dutyTime1s\": \"0900\",\\n                        \"dutyTime2c\": \"2030\",\\n                        \"dutyTime2s\": \"0900\",\\n                        \"dutyTime3c\": \"2030\",\\n                        \"dutyTime3s\": \"0900\",\\n                        \"dutyTime4c\": \"2030\",\\n                        \"dutyTime4s\": \"0900\",\\n                        \"dutyTime5c\": \"2030\",\\n                        \"dutyTime5s\": \"0900\",\\n                        \"dutyTime6c\": \"2030\",\\n                        \"dutyTime6s\": \"0900\",\\n                        \"hpid\": \"C1101446\",\\n                        \"postCdn1\": \"063\",\\n                        \"postCdn2\": \"54\",\\n                        \"rnum\": \"3\",\\n                        \"wgs84Lat\": \"37.4854861607\",\\n                        \"wgs84Lon\": \"127.086600835\"\\n                    },\\n                    {\\n                        \"dutyAddr\": \"\\\\uc11c\\\\uc6b8\\\\ud2b9\\\\ubcc4\\\\uc2dc \\\\uac15\\\\ub0a8\\\\uad6c \\\\uc77c\\\\uc6d0\\\\ub85c 53, 1\\\\uce35 (\\\\uc77c\\\\uc6d0\\\\ub3d9, \\\\uc18c\\\\ub9bc\\\\ube4c\\\\ub529)\",\\n                        \"dutyName\": \"\\\\uc774\\\\uc0bc\\\\uc131\\\\uc57d\\\\uad6d\",\\n                        \"dutyTel1\": \"02-3412-1254\",\\n                        \"dutyTime1c\": \"1900\",\\n                        \"dutyTime1s\": \"0900\",\\n                        \"dutyTime2c\": \"1900\",\\n                        \"dutyTime2s\": \"0900\",\\n                        \"dutyTime3c\": \"1900\",\\n                        \"dutyTime3s\": \"0900\",\\n                        \"dutyTime4c\": \"1900\",\\n                        \"dutyTime4s\": \"0900\",\\n                        \"dutyTime5c\": \"1900\",\\n                        \"dutyTime5s\": \"0900\",\\n                        \"dutyTime6c\": \"1300\",\\n                        \"dutyTime6s\": \"0900\",\\n                        \"hpid\": \"C1109216\",\\n                        \"postCdn1\": \"063\",\\n                        \"postCdn2\": \"43\",\\n                        \"rnum\": \"4\",\\n                        \"wgs84Lat\": \"37.4892626357407\",\\n                        \"wgs84Lon\": \"127.081809638604\"\\n                    }\\n                ]\\n            },\\n            \"numOfRows\": \"100\",\\n            \"pageNo\": \"1\",\\n            \"totalCount\": \"4\"\\n        }\\n    }\\n}'"
      ]
     },
     "execution_count": 15,
     "metadata": {},
     "output_type": "execute_result"
    }
   ],
   "source": [
    "jsonString"
   ]
  },
  {
   "cell_type": "code",
   "execution_count": null,
   "id": "6b299be2",
   "metadata": {},
   "outputs": [],
   "source": []
  }
 ],
 "metadata": {
  "kernelspec": {
   "display_name": "Python 3 (ipykernel)",
   "language": "python",
   "name": "python3"
  },
  "language_info": {
   "codemirror_mode": {
    "name": "ipython",
    "version": 3
   },
   "file_extension": ".py",
   "mimetype": "text/x-python",
   "name": "python",
   "nbconvert_exporter": "python",
   "pygments_lexer": "ipython3",
   "version": "3.9.13"
  }
 },
 "nbformat": 4,
 "nbformat_minor": 5
}
